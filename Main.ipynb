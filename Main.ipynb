{
 "cells": [
  {
   "cell_type": "markdown",
   "metadata": {},
   "source": [
    "# Initialize"
   ]
  },
  {
   "cell_type": "code",
   "execution_count": null,
   "metadata": {
    "collapsed": false
   },
   "outputs": [],
   "source": [
    "from pynq import Overlay\n",
    "from pynq.drivers.video import HDMI\n",
    "from pynq.board import Button\n",
    "\n",
    "# Download bitstream\n",
    "Overlay(\"base.bit\").download()\n",
    "\n",
    "# Initialize HDMI\n",
    "hdmi_in = HDMI('in')\n",
    "hdmi_out = HDMI('out')\n",
    "\n",
    "# Initialize Button\n",
    "button = Button(0)"
   ]
  },
  {
   "cell_type": "markdown",
   "metadata": {},
   "source": [
    "# Start Stream from HDMI IN to OUT"
   ]
  },
  {
   "cell_type": "code",
   "execution_count": null,
   "metadata": {
    "collapsed": false
   },
   "outputs": [],
   "source": [
    "hdmi_in = HDMI('in', init_timeout = 10, frame_list=hdmi_out.frame_list)\n",
    "hdmi_out.mode(4)\n",
    "hdmi_in.start()\n",
    "hdmi_out.start()"
   ]
  },
  {
   "cell_type": "markdown",
   "metadata": {},
   "source": [
    "# Put HDMI IN in Another Buffer"
   ]
  },
  {
   "cell_type": "code",
   "execution_count": null,
   "metadata": {
    "collapsed": false
   },
   "outputs": [],
   "source": [
    "hdmi_in.frame_index_next()"
   ]
  },
  {
   "cell_type": "markdown",
   "metadata": {},
   "source": [
    "# Video Processing & Output to HDMI OUT"
   ]
  },
  {
   "cell_type": "code",
   "execution_count": null,
   "metadata": {
    "collapsed": false
   },
   "outputs": [],
   "source": [
    "from IPython.display import Image\n",
    "from PIL import Image as PIL_Image\n",
    "import numpy as np\n",
    "\n",
    "orig_img_path = '/home/xilinx/jupyter_notebooks/Examples/data/pokeball.png'\n",
    "pokeball = PIL_Image.open(orig_img_path)\n",
    "s_img = np.array(pokeball).reshape(100,100,4)"
   ]
  },
  {
   "cell_type": "code",
   "execution_count": null,
   "metadata": {
    "collapsed": false
   },
   "outputs": [],
   "source": [
    "import cv2\n",
    "import numpy as np\n",
    "import math\n",
    "\n",
    "while(hdmi_in.state() == 1):\n",
    "    frame = hdmi_in.frame_raw()\n",
    "    img = (np.frombuffer(frame, dtype=np.uint8)).reshape(1080,1920,3)\n",
    "    \n",
    "    cv2.rectangle(img,(700,700),(400,400),(0,255,0),0)\n",
    "    crop_img = img[400:700, 400:700]\n",
    "    \n",
    "    grey = cv2.cvtColor(crop_img, cv2.COLOR_BGR2GRAY)\n",
    "    value = (35, 35)\n",
    "    blurred = cv2.GaussianBlur(grey, value, 0)\n",
    "    _, thresh1 = cv2.threshold(blurred, 127, 255,\n",
    "                               cv2.THRESH_BINARY_INV+cv2.THRESH_OTSU)\n",
    "\n",
    "    (version, _, _) = cv2.__version__.split('.')\n",
    "\n",
    "    if version is '3':\n",
    "        image, contours, hierarchy = cv2.findContours(thresh1.copy(), \\\n",
    "               cv2.RETR_TREE, cv2.CHAIN_APPROX_NONE)\n",
    "    elif version is '2':\n",
    "        contours, hierarchy = cv2.findContours(thresh1.copy(),cv2.RETR_TREE, \\\n",
    "               cv2.CHAIN_APPROX_NONE)\n",
    "\n",
    "    cnt = max(contours, key = lambda x: cv2.contourArea(x))\n",
    "    \n",
    "    x,y,w,h = cv2.boundingRect(cnt)\n",
    "    cv2.rectangle(crop_img,(x,y),(x+w,y+h),(0,0,255),0)\n",
    "    hull = cv2.convexHull(cnt)\n",
    "    drawing = np.zeros(crop_img.shape,np.uint8)\n",
    "    cv2.drawContours(drawing,[cnt],0,(0,255,0),0)\n",
    "    cv2.drawContours(drawing,[hull],0,(0,0,255),0)\n",
    "    hull = cv2.convexHull(cnt,returnPoints = False)\n",
    "    defects = cv2.convexityDefects(cnt,hull)\n",
    "    count_defects = 0\n",
    "    cv2.drawContours(thresh1, contours, -1, (0,255,0), 3)\n",
    "\n",
    "    \n",
    "    for i in range(defects.shape[0]):\n",
    "        s,e,f,d = defects[i,0]\n",
    "        start = tuple(cnt[s][0])\n",
    "        end = tuple(cnt[e][0])\n",
    "        far = tuple(cnt[f][0])\n",
    "        a = math.sqrt((end[0] - start[0])**2 + (end[1] - start[1])**2)\n",
    "        b = math.sqrt((far[0] - start[0])**2 + (far[1] - start[1])**2)\n",
    "        c = math.sqrt((end[0] - far[0])**2 + (end[1] - far[1])**2)\n",
    "        angle = math.acos((b**2 + c**2 - a**2)/(2*b*c)) * 57\n",
    "        if angle <= 90:\n",
    "            count_defects += 1\n",
    "            cv2.circle(crop_img,far,1,[0,0,255],-1)\n",
    "        cv2.line(crop_img,start,end,[0,255,0],2)\n",
    "\n",
    "        \n",
    "    if count_defects == 1:\n",
    "        cv2.putText(img,\"Please give us a good grade\", (350,350), cv2.FONT_HERSHEY_SIMPLEX, 2, 2)\n",
    "    elif count_defects == 2:\n",
    "        str = \"This is a program that recognize hand gesture and put a pokeball in middle of your hand\"\n",
    "        cv2.putText(img, str, (350,350), cv2.FONT_HERSHEY_SIMPLEX, 1, 2)\n",
    "    elif count_defects == 3:\n",
    "        cv2.putText(img,\"Hope you enjoy\", (350,350), cv2.FONT_HERSHEY_SIMPLEX, 2, 2)\n",
    "    elif count_defects == 5:\n",
    "        x_offset= x + 450\n",
    "        y_offset= y + 450\n",
    "        for c in range(0,3):\n",
    "            img[y_offset:y_offset+s_img.shape[0], x_offset:x_offset+s_img.shape[1], c] = s_img[:,:,c] * (s_img[:,:,3]/255.0) +  img[y_offset:y_offset+s_img.shape[0], x_offset:x_offset+s_img.shape[1], c] * (1.0 - s_img[:,:,3]/255.0)\n",
    "    else:\n",
    "        cv2.putText(img,\"Please put your hand into the frame\", (350,350),\\\n",
    "                    cv2.FONT_HERSHEY_SIMPLEX, 2, 2)\n",
    "\n",
    "    hdmi_out.frame_raw(bytearray(img.tobytes()))\n",
    "    \n",
    "    if button.read():\n",
    "        break"
   ]
  },
  {
   "cell_type": "markdown",
   "metadata": {},
   "source": [
    "# Check State"
   ]
  },
  {
   "cell_type": "code",
   "execution_count": null,
   "metadata": {
    "collapsed": false,
    "scrolled": true
   },
   "outputs": [],
   "source": [
    "stateout = hdmi_out.state()\n",
    "statein = hdmi_in.state()\n",
    "width = hdmi_in.frame_width()\n",
    "height = hdmi_in.frame_height()\n",
    "\n",
    "print('Input resolution: ')\n",
    "print('{}x{}'\\\n",
    "      .format(width,height))\n",
    "print('Input state: ')\n",
    "print(statein)\n",
    "print('')\n",
    "print('Outout resolution: ')\n",
    "print(hdmi_out.mode())\n",
    "print('Output state: ')\n",
    "print(stateout)"
   ]
  },
  {
   "cell_type": "markdown",
   "metadata": {},
   "source": [
    "# Stop Everything"
   ]
  },
  {
   "cell_type": "code",
   "execution_count": null,
   "metadata": {
    "collapsed": false
   },
   "outputs": [],
   "source": [
    "hdmi_out.stop()\n",
    "hdmi_in.stop()\n",
    "del hdmi_out\n",
    "del hdmi_in"
   ]
  }
 ],
 "metadata": {
  "kernelspec": {
   "display_name": "Python 3",
   "language": "python",
   "name": "python3"
  },
  "language_info": {
   "codemirror_mode": {
    "name": "ipython",
    "version": 3
   },
   "file_extension": ".py",
   "mimetype": "text/x-python",
   "name": "python",
   "nbconvert_exporter": "python",
   "pygments_lexer": "ipython3",
   "version": "3.4.3+"
  }
 },
 "nbformat": 4,
 "nbformat_minor": 1
}
